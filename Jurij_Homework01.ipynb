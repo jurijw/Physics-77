{
 "cells": [
  {
   "cell_type": "markdown",
   "metadata": {},
   "source": [
    "Jurij  \n",
    "101"
   ]
  },
  {
   "cell_type": "markdown",
   "metadata": {},
   "source": [
    "# Homework 1: Python basics and a little plotting"
   ]
  },
  {
   "cell_type": "markdown",
   "metadata": {},
   "source": [
    "** Submit this notebook to bCourses to receive a credit for this assignment.**\n",
    "\n",
    "Please complete this homework assignment in code cells in the iPython notebook. Include comments in your code when necessary. Enter your name in the cell at the top of the notebook, and rename the notebook [email_name]_HW01.ipynb, where [email_name] is the part of your UCB email address that precedes \"@berkeley.edu\" "
   ]
  },
  {
   "cell_type": "markdown",
   "metadata": {},
   "source": [
    "## Problem 1: Satellite Altitudes\n",
    "\n",
    "[Adapted from Newman, Exercise 2.2] A satellite is to be launched into a circular orbit around the Earth so that it orbits the planet once every $T$ seconds. The altitude $h$ above the Earth's surface that the satellite must have is $$ h = \\left( \\frac{G M T^2}{4 \\pi^2} \\right)^{1/3} - R, $$ where $G = 6.67 \\times 10^{-11}~\\text{m}^3~\\text{kg}^{-1}~\\text{s}^{-2}$ is Newton's gravitational constant, $M = 5.97 \\times 10^{24}~\\text{kg}$ is the mass of the Earth, and $R = 6371~\\text{km}$ is its radius."
   ]
  },
  {
   "cell_type": "markdown",
   "metadata": {},
   "source": [
    "**1a.** Write a program that, for a given value of $T$ (entered as a variable T in a cell), calculates and prints out the correct altitude in meters, kilometers, and miles, with one decimal place for each result.\n",
    "\n",
    "*Output for 1a*: When the code cell for this part of the problem is entered, it should specify (in the comments or the Markdown cell above) what units of $T$ are assumed. The program should print out the correct altitude in meters, kilometers, and miles, with one decimal place for each result."
   ]
  },
  {
   "cell_type": "code",
   "execution_count": 9,
   "metadata": {},
   "outputs": [
    {
     "name": "stdout",
     "output_type": "stream",
     "text": "The satelite orbits at 21599916108.2 meters (21599916.1 km, 13421561.5 mls).\n"
    }
   ],
   "source": [
    "import numpy as np\n",
    "\n",
    "# Define constants\n",
    "G = 6.67 * 10 ** (-11) # Gravitational const.\n",
    "M = 5.97 * 10 ** 24 # Mass of Earth in kgs\n",
    "R = 6371 * 10 ** 3 # Radius of Earth in meters\n",
    "\n",
    "def altitude(T): \n",
    "    \"\"\"\n",
    "    Takes a time T in seconds and returns the altitude in meters, kilometers, and miles to 1 d.p\n",
    "    for a satelite be in stable orbit around Earth with a period T seconds.\n",
    "    Args:\n",
    "    T -> Int\n",
    "    Returns:\n",
    "    altitudes -> Dict\n",
    "    \"\"\"\n",
    "    height_meters = ((G * M * T ** 2) / (4*(np.pi) ** 2)) ** (1/3) - R # Calculated altitude in meters\n",
    "    height_kilometers = height_meters / 1000 # Altitude in kilometers\n",
    "    height_miles = 0.621371 * height_kilometers # Altitude in miles\n",
    "    \n",
    "    # Create a dictionary returning the altitudes to 1 d.p\n",
    "    altitudes = {\n",
    "        \"meters\": round(height_meters, 1), \n",
    "        \"kilometers\": round(height_kilometers, 1), \n",
    "        \"miles\": round(height_miles, 1)\n",
    "        }\n",
    "\n",
    "    # Return the dict\n",
    "    return altitudes\n",
    "\n",
    "# Get user input\n",
    "T = int(input(\"Please enter a value for T in seconds: \"))\n",
    "# Unpack function output\n",
    "altitudes = altitude(T)\n",
    "meters, kilometers, miles = altitudes[\"meters\"], altitudes[\"kilometers\"], altitudes[\"miles\"]\n",
    "# Print the information\n",
    "print(f\"The satelite orbits at {meters} meters ({kilometers} km, {miles} mls).\")\n",
    "    "
   ]
  },
  {
   "cell_type": "markdown",
   "metadata": {},
   "source": [
    "*Output for 1b and 1c:* Use code cells to carry out the desired calculations, and Markdown cells to present and discuss your results."
   ]
  },
  {
   "cell_type": "markdown",
   "metadata": {},
   "source": [
    "**1b.** Use your program to calculate the altitudes of satellites that orbit the Earth once a day (so-called \"geosynchronous\" orbit), once every 90 minutes, and once every 45 minutes. What do you conclude from the last of these calculations?"
   ]
  },
  {
   "cell_type": "code",
   "execution_count": 19,
   "metadata": {},
   "outputs": [
    {
     "name": "stdout",
     "output_type": "stream",
     "text": "A geosynchronous satelite orbits at 35855.9 km.\nA satelite's stable orbiting altitude with a period of 90 minutes is 279.3 km.\nA satelite's stable orbiting altitude with a period of 45 minutes is -2181.6 km.\n"
    }
   ],
   "source": [
    "# Get orbital altitude for a geosynchronous satelite\n",
    "altitudes = altitude(24 * 60 * 60)\n",
    "height_kilometers = altitudes[\"kilometers\"]\n",
    "print(f\"A geosynchronous satelite orbits at {height_kilometers} km.\")\n",
    "\n",
    "# Do the same for 90 minutes and 45 minutes\n",
    "altitudes = altitude(90 * 60)\n",
    "height_kilometers = altitudes[\"kilometers\"]\n",
    "print(f\"A satelite's stable orbiting altitude with a period of 90 minutes is {height_kilometers} km.\")\n",
    "altitudes = altitude(45 * 60)\n",
    "height_kilometers = altitudes[\"kilometers\"]\n",
    "print(f\"A satelite's stable orbiting altitude with a period of 45 minutes is {height_kilometers} km.\")"
   ]
  },
  {
   "cell_type": "markdown",
   "metadata": {},
   "source": [
    "The last of these gives a negaitve value for h. This means it is physically impossible for a satelite to orbit earth once every 45 minutes."
   ]
  },
  {
   "cell_type": "markdown",
   "metadata": {},
   "source": [
    "**1c.** Technically a geosynchronous satellite is one that orbits the Earth once per *sidereal day*, which is 23.93 hours, not 24 hours. Why is this? And how much difference will it make to the altitude of the satellite?"
   ]
  },
  {
   "cell_type": "code",
   "execution_count": 21,
   "metadata": {},
   "outputs": [
    {
     "name": "stdout",
     "output_type": "stream",
     "text": "A satelite with an orbital period of 24h orbits at an altitude of 35855.9 km.\nA satelite with an orbital period of 23.93h orbits at an altitude of 35773.8 km.\nThis makes the difference between their orbits 82.1 km.\n"
    }
   ],
   "source": [
    "# Calculate the altitude for a full 24h day and a shorter 23.93h day\n",
    "height_kilometers_full_day = altitude(24 * 60 * 60)[\"kilometers\"]\n",
    "height_kilometers_shorter_day = altitude(23.93 * 60 * 60)[\"kilometers\"]\n",
    "# Calculate the difference to 1 d.p\n",
    "difference = abs(round(height_kilometers_full_day - height_kilometers_shorter_day, 1))\n",
    "\n",
    "print(f\"A satelite with an orbital period of 24h orbits at an altitude of {height_kilometers_full_day} km.\")\n",
    "print(f\"A satelite with an orbital period of 23.93h orbits at an altitude of {height_kilometers_shorter_day} km.\")\n",
    "print(f\"This makes the difference between their orbits {difference} km.\")"
   ]
  },
  {
   "cell_type": "markdown",
   "metadata": {},
   "source": [
    "Sidereal orbit matches the rotation of Earth relative to the starts (23.93h) rather than the Earth's rotation relative to the sun (24h). This is probably quite useful to astronomers who want to be able to study distant stars reliably. Difference is about 82.1km less for the sidereal orbit."
   ]
  },
  {
   "cell_type": "markdown",
   "metadata": {},
   "source": [
    "#### Hints\n",
    "\n",
    "Be very careful of units! Unlike wolframalpha.com, python is oblivious to what units your various numbers represent. You need to carefully keep track of them to make sure that your units work out. Not converting units properly can lead to [very expensive disasters](https://en.wikipedia.org/wiki/Mars_Climate_Orbiter) or just wrong scientific results ...\n",
    "\n",
    "Remember to comment your code and use descriptive variable names so others (and future you) can understand what you're doing!"
   ]
  },
  {
   "cell_type": "markdown",
   "metadata": {},
   "source": [
    "## Problem 2: Perfect Hardboiled Eggs\n",
    "\n",
    "[Adapted from Langtangen, Exercise 1.12. You may derive the formula in Physics 112 or Physics 89] As an egg cooks, the proteins first denature and then coagulate. When the temperature exceeds a critical point, reactions begin and proceed faster as the temperature increases. In the egg white the proteins start to coagulate for temperatures above 63 C, while in the  yolk the proteins start to coagulate for temperatures above 70 C. For a soft boiled egg, the white needs to have been heated long enough to coagulate at a temperature above 63 C, but the yolk should not be heated above 70 C. For a hard boiled egg, the center of the yolk should be allowed to reach 70 C.\n",
    "\n",
    "The following formula expresses the time $t$ it takes (in seconds) for the center of the yolk to reach the temperature $T_y$ (in Celsius degrees): $$ t = \\frac{M^{2/3} c \\rho^{1/3}}{K \\pi^2 (4\\pi/3)^{2/3}} \\ln \\left[ 0.76 \\frac{T_0 - T_w}{T_y - T_w} \\right] . $$ Here, $M$, $\\rho$, $c$, and $K$ are properties of the egg:\n",
    "* $M$ is the mass,\n",
    "* $\\rho$ is the density,\n",
    "* $c$ is the specific heat capacity, and \n",
    "* $K$ is the thermal conductivity.\n",
    "\n",
    "Relevant values are\n",
    "* $M = 64~\\text{g}$ for a large egg (USA size XL: en.wikipedia.org/wiki/Chicken_egg_sizes),\n",
    "* $\\rho = 1.0378~\\text{g cm}^{-3}$,\n",
    "* $c = 3.7~\\text{J g}^{-1}\\,\\text{K}^{-1}$, and\n",
    "* $K = 5.4 \\cdot 10^{-3}~\\text{W cm}^{-1}\\,\\text{K}^{-1}$.\n",
    "\n",
    "Furthermore,\n",
    "* $T_w$ is the temperature (in C degrees) of the boiling water, and\n",
    "* $T_0$ is the original temperature (in C degrees) of the egg before being put in the water.\n",
    "\n",
    "Suppose we want our eggs hard-boiled. Implement the formula in a program, set $T_w = 100~\\text{C}$ and $T_y = 70~\\text{C}$, and compute $t$ for a large egg taken from the fridge ($T_0 = 4~\\text{C}$) and from room temperature ($T_0 = 20~\\text{C}$). Also compute the results for a small egg ($M = 42~\\text{g}$)."
   ]
  },
  {
   "cell_type": "markdown",
   "metadata": {},
   "source": [
    "print(str(round(boil_time(64,20)/60,3)))\n",
    "print(str(round(boil_time(64,20)/60,2)))"
   ]
  },
  {
   "cell_type": "markdown",
   "metadata": {},
   "source": [
    "*Output for 2:*\n",
    "When you run your code cell, it should produce the following text, with your numbers instead of the `TTT`, `MMM`, and `SSS` placeholders:\n",
    "\n",
    "    To hard-boil a large egg taken directly from the fridge, cook it for TTT minutes (MMM min, SSS sec).\n",
    "    To hard-boil a small egg taken directly from the fridge, cook it for TTT minutes (MMM min, SSS sec).\n",
    "    To hard-boil a large egg starting from room temperature, cook it for TTT minutes (MMM min, SSS sec).\n",
    "    To hard-boil a small egg starting from room temperature, cook it for TTT minutes (MMM min, SSS sec).\n",
    "\n",
    "The `TTT` placeholders should be values in minutes to two decimal places. The `MMM` and `SSS` placeholders should be rounded to the nearest minute/second, with no decimal places. For example,\n",
    "\n",
    "    To hard-boil a large egg taken directly from the fridge, cook it for 56.78 minutes (56 min 47 sec).\n",
    "\n"
   ]
  },
  {
   "cell_type": "code",
   "execution_count": 30,
   "metadata": {},
   "outputs": [
    {
     "name": "stdout",
     "output_type": "stream",
     "text": "To hard-boil a large egg taken directly from the fridge, cook it for 6.41 minutes (6.0 min , 25.0 sec).\nTo hard-boil a small egg taken directly from the fridge, cook it for 4.84 minutes (5.0 min , 50.0 sec).\nTo hard-boil a large egg starting from room temperature, cook it for 5.1 minutes (5.0 min , 6.0 sec).\nTo hard-boil a small egg starting from room temperature, cook it for 3.85 minutes (4.0 min , 51.0 sec).\n"
    }
   ],
   "source": [
    "#Define constants\n",
    "rho = 1.0378\n",
    "c = 3.7\n",
    "K = 5.4 * 10 ** (-3)\n",
    "\n",
    "def boil_time(M, T_0): \n",
    "    \"\"\"\n",
    "    Returns the boil time of an egg based on its mass and initial temperature.\n",
    "    Args:\n",
    "    M -> Int\n",
    "    T_0 -> Int\n",
    "    Returns:\n",
    "    time -> Int\n",
    "    \"\"\"\n",
    "    time = (M ** (2 / 3) * c * rho ** (1 / 3)) / (K * (np.pi ** 2) * (4 * np.pi / 3) ** (2 / 3)) * np.log(0.76 * (T_0 - 100) / (70 - 100))\n",
    "    return time\n",
    "\n",
    "# Large egg from fridge\n",
    "time = boil_time(64, 4)\n",
    "print(f\"To hard-boil a large egg taken directly from the fridge, cook it for {round(time / 60, 2)} minutes ({round(time / 60)} min , {round(time % 60)} sec).\")\n",
    "\n",
    "# Small egg from fridge\n",
    "time = boil_time(42, 4)\n",
    "print(f\"To hard-boil a small egg taken directly from the fridge, cook it for {round(time / 60, 2)} minutes ({round(time / 60)} min , {round(time % 60)} sec).\")\n",
    "\n",
    "# Big egg room temp\n",
    "time = boil_time(64, 20)\n",
    "print(f\"To hard-boil a large egg starting from room temperature, cook it for {round(time / 60, 2)} minutes ({round(time / 60)} min , {round(time % 60)} sec).\")\n",
    "\n",
    "# Small egg room temp\n",
    "time = boil_time(42, 20)\n",
    "print(f\"To hard-boil a small egg starting from room temperature, cook it for {round(time / 60, 2)} minutes ({round(time / 60)} min , {round(time % 60)} sec).\")"
   ]
  },
  {
   "cell_type": "markdown",
   "metadata": {},
   "source": [
    "#### Hints\n",
    "\n",
    "Writing the entire formula in one line is difficult to type, difficult to read, difficult to debug---and you have to retype the entire calculation just to change one piece of it. Try breaking it down in smaller chunks assigned to variables, and combine those chunks to produce the final result.\n",
    "\n",
    "Beware of integer division!\n",
    "\n",
    "Remember to comment your code and use descriptive variable names so others (and future you) can understand what you're doing!"
   ]
  },
  {
   "cell_type": "markdown",
   "metadata": {},
   "source": [
    "## Problem 3: Estimating Half-Life\n",
    "\n",
    "[Adapted from Ayars, Problem 0-3] The data in file Ba137.txt (available here: https://raw.githubusercontent.com/celegante/code_chapter_0-_github/master/Ba137.txt) is actual data from a radioactive decay experiment; the first column is the number of decays $N$, the second is the time $t$ in seconds. We'd like to know the half-life $t_{1/2}$ of $^{137}\\text{Ba}$. It should follow the decay equation $$ N = N_0 e^{-\\lambda t} $$ where $\\lambda = \\frac{\\log 2}{t_{1/2}}$. Using the techniques you've learned from the lecture and workshop, load the data from the file Ba137.txt into appropriately-named variables. Experiment with different values of $N$ and $\\lambda$ and plot the resulting equation on top of the data. (Python uses `exp()` to calculate the exponential function: i.e. `y = A*exp(-L*time)` ) Don't worry about automating this process yet (unless you *really* want to!) just try adjusting things by hand until the equation matches the data pretty well. What is your best estimate for $t_{1/2}$?"
   ]
  },
  {
   "cell_type": "markdown",
   "metadata": {},
   "source": [
    "*Output for 3:*\n",
    "When you run your code cell, it should produce a well-labeled plot with both the data and your curve of best fit. It should also print a message to the terminal which says, \"My best estimate for the half life is $x$\", where $x$ is your estimate with units."
   ]
  },
  {
   "cell_type": "code",
   "execution_count": 35,
   "metadata": {},
   "outputs": [
    {
     "data": {
      "text/plain": "[<matplotlib.lines.Line2D at 0x5414460>]"
     },
     "execution_count": 35,
     "metadata": {},
     "output_type": "execute_result"
    },
    {
     "data": {
      "image/png": "[encoded data removed]",
      "image/svg+xml": "<?xml version=\"1.0\" encoding=\"utf-8\" standalone=\"no\"?>\r\n<!DOCTYPE svg PUBLIC \"-//W3C//DTD SVG 1.1//EN\"\r\n  \"http://www.w3.org/Graphics/SVG/1.1/DTD/svg11.dtd\">\r\n<!-- Created with matplotlib (https://matplotlib.org/) -->\r\n<svg height=\"277.314375pt\" version=\"1.1\" viewBox=\"0 0 409.359902 277.314375\" width=\"409.359902pt\" xmlns=\"http://www.w3.org/2000/svg\" xmlns:xlink=\"http://www.w3.org/1999/xlink\">\r\n <defs>\r\n  <style type=\"text/css\">\r\n*{stroke-linecap:butt;stroke-linejoin:round;}\r\n  </style>\r\n </defs>\r\n <g id=\"figure_1\">\r\n  <g id=\"patch_1\">\r\n   <path d=\"M 0 277.314375 \r\nL 409.359902 277.314375 \r\nL 409.359902 0 \r\nL 0 0 \r\nz\r\n\" style=\"fill:none;\"/>\r\n  </g>\r\n  <g id=\"axes_1\">\r\n   <g id=\"patch_2\">\r\n    <path d=\"M 59.690625 239.758125 \r\nL 394.490625 239.758125 \r\nL 394.490625 22.318125 \r\nL 59.690625 22.318125 \r\nz\r\n\" style=\"fill:#ffffff;\"/>\r\n   </g>\r\n   <g id=\"matplotlib.axis_1\">\r\n    <g id=\"xtick_1\">\r\n     <g id=\"line2d_1\">\r\n      <defs>\r\n       <path d=\"M 0 0 \r\nL 0 3.5 \r\n\" id=\"m17a1c79c4b\" style=\"stroke:#000000;stroke-width:0.8;\"/>\r\n      </defs>\r\n      <g>\r\n       <use style=\"stroke:#000000;stroke-width:0.8;\" x=\"74.908807\" xlink:href=\"#m17a1c79c4b\" y=\"239.758125\"/>\r\n      </g>\r\n     </g>\r\n     <g id=\"text_1\">\r\n      <!-- 0 -->\r\n      <defs>\r\n       <path d=\"M 31.78125 66.40625 \r\nQ 24.171875 66.40625 20.328125 58.90625 \r\nQ 16.5 51.421875 16.5 36.375 \r\nQ 16.5 21.390625 20.328125 13.890625 \r\nQ 24.171875 6.390625 31.78125 6.390625 \r\nQ 39.453125 6.390625 43.28125 13.890625 \r\nQ 47.125 21.390625 47.125 36.375 \r\nQ 47.125 51.421875 43.28125 58.90625 \r\nQ 39.453125 66.40625 31.78125 66.40625 \r\nz\r\nM 31.78125 74.21875 \r\nQ 44.046875 74.21875 50.515625 64.515625 \r\nQ 56.984375 54.828125 56.984375 36.375 \r\nQ 56.984375 17.96875 50.515625 8.265625 \r\nQ 44.046875 -1.421875 31.78125 -1.421875 \r\nQ 19.53125 -1.421875 13.0625 8.265625 \r\nQ 6.59375 17.96875 6.59375 36.375 \r\nQ 6.59375 54.828125 13.0625 64.515625 \r\nQ 19.53125 74.21875 31.78125 74.21875 \r\nz\r\n\" id=\"DejaVuSans-48\"/>\r\n      </defs>\r\n      <g transform=\"translate(71.727557 254.356562)scale(0.1 -0.1)\">\r\n       <use xlink:href=\"#DejaVuSans-48\"/>\r\n      </g>\r\n     </g>\r\n    </g>\r\n    <g id=\"xtick_2\">\r\n     <g id=\"line2d_2\">\r\n      <g>\r\n       <use style=\"stroke:#000000;stroke-width:0.8;\" x=\"138.450276\" xlink:href=\"#m17a1c79c4b\" y=\"239.758125\"/>\r\n      </g>\r\n     </g>\r\n     <g id=\"text_2\">\r\n      <!-- 100 -->\r\n      <defs>\r\n       <path d=\"M 12.40625 8.296875 \r\nL 28.515625 8.296875 \r\nL 28.515625 63.921875 \r\nL 10.984375 60.40625 \r\nL 10.984375 69.390625 \r\nL 28.421875 72.90625 \r\nL 38.28125 72.90625 \r\nL 38.28125 8.296875 \r\nL 54.390625 8.296875 \r\nL 54.390625 0 \r\nL 12.40625 0 \r\nz\r\n\" id=\"DejaVuSans-49\"/>\r\n      </defs>\r\n      <g transform=\"translate(128.906526 254.356562)scale(0.1 -0.1)\">\r\n       <use xlink:href=\"#DejaVuSans-49\"/>\r\n       <use x=\"63.623047\" xlink:href=\"#DejaVuSans-48\"/>\r\n       <use x=\"127.246094\" xlink:href=\"#DejaVuSans-48\"/>\r\n      </g>\r\n     </g>\r\n    </g>\r\n    <g id=\"xtick_3\">\r\n     <g id=\"line2d_3\">\r\n      <g>\r\n       <use style=\"stroke:#000000;stroke-width:0.8;\" x=\"201.991745\" xlink:href=\"#m17a1c79c4b\" y=\"239.758125\"/>\r\n      </g>\r\n     </g>\r\n     <g id=\"text_3\">\r\n      <!-- 200 -->\r\n      <defs>\r\n       <path d=\"M 19.1875 8.296875 \r\nL 53.609375 8.296875 \r\nL 53.609375 0 \r\nL 7.328125 0 \r\nL 7.328125 8.296875 \r\nQ 12.9375 14.109375 22.625 23.890625 \r\nQ 32.328125 33.6875 34.8125 36.53125 \r\nQ 39.546875 41.84375 41.421875 45.53125 \r\nQ 43.3125 49.21875 43.3125 52.78125 \r\nQ 43.3125 58.59375 39.234375 62.25 \r\nQ 35.15625 65.921875 28.609375 65.921875 \r\nQ 23.96875 65.921875 18.8125 64.3125 \r\nQ 13.671875 62.703125 7.8125 59.421875 \r\nL 7.8125 69.390625 \r\nQ 13.765625 71.78125 18.9375 73 \r\nQ 24.125 74.21875 28.421875 74.21875 \r\nQ 39.75 74.21875 46.484375 68.546875 \r\nQ 53.21875 62.890625 53.21875 53.421875 \r\nQ 53.21875 48.921875 51.53125 44.890625 \r\nQ 49.859375 40.875 45.40625 35.40625 \r\nQ 44.1875 33.984375 37.640625 27.21875 \r\nQ 31.109375 20.453125 19.1875 8.296875 \r\nz\r\n\" id=\"DejaVuSans-50\"/>\r\n      </defs>\r\n      <g transform=\"translate(192.447995 254.356562)scale(0.1 -0.1)\">\r\n       <use xlink:href=\"#DejaVuSans-50\"/>\r\n       <use x=\"63.623047\" xlink:href=\"#DejaVuSans-48\"/>\r\n       <use x=\"127.246094\" xlink:href=\"#DejaVuSans-48\"/>\r\n      </g>\r\n     </g>\r\n    </g>\r\n    <g id=\"xtick_4\">\r\n     <g id=\"line2d_4\">\r\n      <g>\r\n       <use style=\"stroke:#000000;stroke-width:0.8;\" x=\"265.533214\" xlink:href=\"#m17a1c79c4b\" y=\"239.758125\"/>\r\n      </g>\r\n     </g>\r\n     <g id=\"text_4\">\r\n      <!-- 300 -->\r\n      <defs>\r\n       <path d=\"M 40.578125 39.3125 \r\nQ 47.65625 37.796875 51.625 33 \r\nQ 55.609375 28.21875 55.609375 21.1875 \r\nQ 55.609375 10.40625 48.1875 4.484375 \r\nQ 40.765625 -1.421875 27.09375 -1.421875 \r\nQ 22.515625 -1.421875 17.65625 -0.515625 \r\nQ 12.796875 0.390625 7.625 2.203125 \r\nL 7.625 11.71875 \r\nQ 11.71875 9.328125 16.59375 8.109375 \r\nQ 21.484375 6.890625 26.8125 6.890625 \r\nQ 36.078125 6.890625 40.9375 10.546875 \r\nQ 45.796875 14.203125 45.796875 21.1875 \r\nQ 45.796875 27.640625 41.28125 31.265625 \r\nQ 36.765625 34.90625 28.71875 34.90625 \r\nL 20.21875 34.90625 \r\nL 20.21875 43.015625 \r\nL 29.109375 43.015625 \r\nQ 36.375 43.015625 40.234375 45.921875 \r\nQ 44.09375 48.828125 44.09375 54.296875 \r\nQ 44.09375 59.90625 40.109375 62.90625 \r\nQ 36.140625 65.921875 28.71875 65.921875 \r\nQ 24.65625 65.921875 20.015625 65.03125 \r\nQ 15.375 64.15625 9.8125 62.3125 \r\nL 9.8125 71.09375 \r\nQ 15.4375 72.65625 20.34375 73.4375 \r\nQ 25.25 74.21875 29.59375 74.21875 \r\nQ 40.828125 74.21875 47.359375 69.109375 \r\nQ 53.90625 64.015625 53.90625 55.328125 \r\nQ 53.90625 49.265625 50.4375 45.09375 \r\nQ 46.96875 40.921875 40.578125 39.3125 \r\nz\r\n\" id=\"DejaVuSans-51\"/>\r\n      </defs>\r\n      <g transform=\"translate(255.989464 254.356562)scale(0.1 -0.1)\">\r\n       <use xlink:href=\"#DejaVuSans-51\"/>\r\n       <use x=\"63.623047\" xlink:href=\"#DejaVuSans-48\"/>\r\n       <use x=\"127.246094\" xlink:href=\"#DejaVuSans-48\"/>\r\n      </g>\r\n     </g>\r\n    </g>\r\n    <g id=\"xtick_5\">\r\n     <g id=\"line2d_5\">\r\n      <g>\r\n       <use style=\"stroke:#000000;stroke-width:0.8;\" x=\"329.074683\" xlink:href=\"#m17a1c79c4b\" y=\"239.758125\"/>\r\n      </g>\r\n     </g>\r\n     <g id=\"text_5\">\r\n      <!-- 400 -->\r\n      <defs>\r\n       <path d=\"M 37.796875 64.3125 \r\nL 12.890625 25.390625 \r\nL 37.796875 25.390625 \r\nz\r\nM 35.203125 72.90625 \r\nL 47.609375 72.90625 \r\nL 47.609375 25.390625 \r\nL 58.015625 25.390625 \r\nL 58.015625 17.1875 \r\nL 47.609375 17.1875 \r\nL 47.609375 0 \r\nL 37.796875 0 \r\nL 37.796875 17.1875 \r\nL 4.890625 17.1875 \r\nL 4.890625 26.703125 \r\nz\r\n\" id=\"DejaVuSans-52\"/>\r\n      </defs>\r\n      <g transform=\"translate(319.530933 254.356562)scale(0.1 -0.1)\">\r\n       <use xlink:href=\"#DejaVuSans-52\"/>\r\n       <use x=\"63.623047\" xlink:href=\"#DejaVuSans-48\"/>\r\n       <use x=\"127.246094\" xlink:href=\"#DejaVuSans-48\"/>\r\n      </g>\r\n     </g>\r\n    </g>\r\n    <g id=\"xtick_6\">\r\n     <g id=\"line2d_6\">\r\n      <g>\r\n       <use style=\"stroke:#000000;stroke-width:0.8;\" x=\"392.616152\" xlink:href=\"#m17a1c79c4b\" y=\"239.758125\"/>\r\n      </g>\r\n     </g>\r\n     <g id=\"text_6\">\r\n      <!-- 500 -->\r\n      <defs>\r\n       <path d=\"M 10.796875 72.90625 \r\nL 49.515625 72.90625 \r\nL 49.515625 64.59375 \r\nL 19.828125 64.59375 \r\nL 19.828125 46.734375 \r\nQ 21.96875 47.46875 24.109375 47.828125 \r\nQ 26.265625 48.1875 28.421875 48.1875 \r\nQ 40.625 48.1875 47.75 41.5 \r\nQ 54.890625 34.8125 54.890625 23.390625 \r\nQ 54.890625 11.625 47.5625 5.09375 \r\nQ 40.234375 -1.421875 26.90625 -1.421875 \r\nQ 22.3125 -1.421875 17.546875 -0.640625 \r\nQ 12.796875 0.140625 7.71875 1.703125 \r\nL 7.71875 11.625 \r\nQ 12.109375 9.234375 16.796875 8.0625 \r\nQ 21.484375 6.890625 26.703125 6.890625 \r\nQ 35.15625 6.890625 40.078125 11.328125 \r\nQ 45.015625 15.765625 45.015625 23.390625 \r\nQ 45.015625 31 40.078125 35.4375 \r\nQ 35.15625 39.890625 26.703125 39.890625 \r\nQ 22.75 39.890625 18.8125 39.015625 \r\nQ 14.890625 38.140625 10.796875 36.28125 \r\nz\r\n\" id=\"DejaVuSans-53\"/>\r\n      </defs>\r\n      <g transform=\"translate(383.072402 254.356562)scale(0.1 -0.1)\">\r\n       <use xlink:href=\"#DejaVuSans-53\"/>\r\n       <use x=\"63.623047\" xlink:href=\"#DejaVuSans-48\"/>\r\n       <use x=\"127.246094\" xlink:href=\"#DejaVuSans-48\"/>\r\n      </g>\r\n     </g>\r\n    </g>\r\n    <g id=\"text_7\">\r\n     <!-- time [s] -->\r\n     <defs>\r\n      <path d=\"M 18.3125 70.21875 \r\nL 18.3125 54.6875 \r\nL 36.8125 54.6875 \r\nL 36.8125 47.703125 \r\nL 18.3125 47.703125 \r\nL 18.3125 18.015625 \r\nQ 18.3125 11.328125 20.140625 9.421875 \r\nQ 21.96875 7.515625 27.59375 7.515625 \r\nL 36.8125 7.515625 \r\nL 36.8125 0 \r\nL 27.59375 0 \r\nQ 17.1875 0 13.234375 3.875 \r\nQ 9.28125 7.765625 9.28125 18.015625 \r\nL 9.28125 47.703125 \r\nL 2.6875 47.703125 \r\nL 2.6875 54.6875 \r\nL 9.28125 54.6875 \r\nL 9.28125 70.21875 \r\nz\r\n\" id=\"DejaVuSans-116\"/>\r\n      <path d=\"M 9.421875 54.6875 \r\nL 18.40625 54.6875 \r\nL 18.40625 0 \r\nL 9.421875 0 \r\nz\r\nM 9.421875 75.984375 \r\nL 18.40625 75.984375 \r\nL 18.40625 64.59375 \r\nL 9.421875 64.59375 \r\nz\r\n\" id=\"DejaVuSans-105\"/>\r\n      <path d=\"M 52 44.1875 \r\nQ 55.375 50.25 60.0625 53.125 \r\nQ 64.75 56 71.09375 56 \r\nQ 79.640625 56 84.28125 50.015625 \r\nQ 88.921875 44.046875 88.921875 33.015625 \r\nL 88.921875 0 \r\nL 79.890625 0 \r\nL 79.890625 32.71875 \r\nQ 79.890625 40.578125 77.09375 44.375 \r\nQ 74.3125 48.1875 68.609375 48.1875 \r\nQ 61.625 48.1875 57.5625 43.546875 \r\nQ 53.515625 38.921875 53.515625 30.90625 \r\nL 53.515625 0 \r\nL 44.484375 0 \r\nL 44.484375 32.71875 \r\nQ 44.484375 40.625 41.703125 44.40625 \r\nQ 38.921875 48.1875 33.109375 48.1875 \r\nQ 26.21875 48.1875 22.15625 43.53125 \r\nQ 18.109375 38.875 18.109375 30.90625 \r\nL 18.109375 0 \r\nL 9.078125 0 \r\nL 9.078125 54.6875 \r\nL 18.109375 54.6875 \r\nL 18.109375 46.1875 \r\nQ 21.1875 51.21875 25.484375 53.609375 \r\nQ 29.78125 56 35.6875 56 \r\nQ 41.65625 56 45.828125 52.96875 \r\nQ 50 49.953125 52 44.1875 \r\nz\r\n\" id=\"DejaVuSans-109\"/>\r\n      <path d=\"M 56.203125 29.59375 \r\nL 56.203125 25.203125 \r\nL 14.890625 25.203125 \r\nQ 15.484375 15.921875 20.484375 11.0625 \r\nQ 25.484375 6.203125 34.421875 6.203125 \r\nQ 39.59375 6.203125 44.453125 7.46875 \r\nQ 49.3125 8.734375 54.109375 11.28125 \r\nL 54.109375 2.78125 \r\nQ 49.265625 0.734375 44.1875 -0.34375 \r\nQ 39.109375 -1.421875 33.890625 -1.421875 \r\nQ 20.796875 -1.421875 13.15625 6.1875 \r\nQ 5.515625 13.8125 5.515625 26.8125 \r\nQ 5.515625 40.234375 12.765625 48.109375 \r\nQ 20.015625 56 32.328125 56 \r\nQ 43.359375 56 49.78125 48.890625 \r\nQ 56.203125 41.796875 56.203125 29.59375 \r\nz\r\nM 47.21875 32.234375 \r\nQ 47.125 39.59375 43.09375 43.984375 \r\nQ 39.0625 48.390625 32.421875 48.390625 \r\nQ 24.90625 48.390625 20.390625 44.140625 \r\nQ 15.875 39.890625 15.1875 32.171875 \r\nz\r\n\" id=\"DejaVuSans-101\"/>\r\n      <path id=\"DejaVuSans-32\"/>\r\n      <path d=\"M 8.59375 75.984375 \r\nL 29.296875 75.984375 \r\nL 29.296875 69 \r\nL 17.578125 69 \r\nL 17.578125 -6.203125 \r\nL 29.296875 -6.203125 \r\nL 29.296875 -13.1875 \r\nL 8.59375 -13.1875 \r\nz\r\n\" id=\"DejaVuSans-91\"/>\r\n      <path d=\"M 44.28125 53.078125 \r\nL 44.28125 44.578125 \r\nQ 40.484375 46.53125 36.375 47.5 \r\nQ 32.28125 48.484375 27.875 48.484375 \r\nQ 21.1875 48.484375 17.84375 46.4375 \r\nQ 14.5 44.390625 14.5 40.28125 \r\nQ 14.5 37.15625 16.890625 35.375 \r\nQ 19.28125 33.59375 26.515625 31.984375 \r\nL 29.59375 31.296875 \r\nQ 39.15625 29.25 43.1875 25.515625 \r\nQ 47.21875 21.78125 47.21875 15.09375 \r\nQ 47.21875 7.46875 41.1875 3.015625 \r\nQ 35.15625 -1.421875 24.609375 -1.421875 \r\nQ 20.21875 -1.421875 15.453125 -0.5625 \r\nQ 10.6875 0.296875 5.421875 2 \r\nL 5.421875 11.28125 \r\nQ 10.40625 8.6875 15.234375 7.390625 \r\nQ 20.0625 6.109375 24.8125 6.109375 \r\nQ 31.15625 6.109375 34.5625 8.28125 \r\nQ 37.984375 10.453125 37.984375 14.40625 \r\nQ 37.984375 18.0625 35.515625 20.015625 \r\nQ 33.0625 21.96875 24.703125 23.78125 \r\nL 21.578125 24.515625 \r\nQ 13.234375 26.265625 9.515625 29.90625 \r\nQ 5.8125 33.546875 5.8125 39.890625 \r\nQ 5.8125 47.609375 11.28125 51.796875 \r\nQ 16.75 56 26.8125 56 \r\nQ 31.78125 56 36.171875 55.265625 \r\nQ 40.578125 54.546875 44.28125 53.078125 \r\nz\r\n\" id=\"DejaVuSans-115\"/>\r\n      <path d=\"M 30.421875 75.984375 \r\nL 30.421875 -13.1875 \r\nL 9.71875 -13.1875 \r\nL 9.71875 -6.203125 \r\nL 21.390625 -6.203125 \r\nL 21.390625 69 \r\nL 9.71875 69 \r\nL 9.71875 75.984375 \r\nz\r\n\" id=\"DejaVuSans-93\"/>\r\n     </defs>\r\n     <g transform=\"translate(207.699219 268.034687)scale(0.1 -0.1)\">\r\n      <use xlink:href=\"#DejaVuSans-116\"/>\r\n      <use x=\"39.208984\" xlink:href=\"#DejaVuSans-105\"/>\r\n      <use x=\"66.992188\" xlink:href=\"#DejaVuSans-109\"/>\r\n      <use x=\"164.404297\" xlink:href=\"#DejaVuSans-101\"/>\r\n      <use x=\"225.927734\" xlink:href=\"#DejaVuSans-32\"/>\r\n      <use x=\"257.714844\" xlink:href=\"#DejaVuSans-91\"/>\r\n      <use x=\"296.728516\" xlink:href=\"#DejaVuSans-115\"/>\r\n      <use x=\"348.828125\" xlink:href=\"#DejaVuSans-93\"/>\r\n     </g>\r\n    </g>\r\n   </g>\r\n   <g id=\"matplotlib.axis_2\">\r\n    <g id=\"ytick_1\">\r\n     <g id=\"line2d_7\">\r\n      <defs>\r\n       <path d=\"M 0 0 \r\nL -3.5 0 \r\n\" id=\"mc837415d5f\" style=\"stroke:#000000;stroke-width:0.8;\"/>\r\n      </defs>\r\n      <g>\r\n       <use style=\"stroke:#000000;stroke-width:0.8;\" x=\"59.690625\" xlink:href=\"#mc837415d5f\" y=\"222.731645\"/>\r\n      </g>\r\n     </g>\r\n     <g id=\"text_8\">\r\n      <!-- 5000 -->\r\n      <g transform=\"translate(27.240625 226.530864)scale(0.1 -0.1)\">\r\n       <use xlink:href=\"#DejaVuSans-53\"/>\r\n       <use x=\"63.623047\" xlink:href=\"#DejaVuSans-48\"/>\r\n       <use x=\"127.246094\" xlink:href=\"#DejaVuSans-48\"/>\r\n       <use x=\"190.869141\" xlink:href=\"#DejaVuSans-48\"/>\r\n      </g>\r\n     </g>\r\n    </g>\r\n    <g id=\"ytick_2\">\r\n     <g id=\"line2d_8\">\r\n      <g>\r\n       <use style=\"stroke:#000000;stroke-width:0.8;\" x=\"59.690625\" xlink:href=\"#mc837415d5f\" y=\"182.193372\"/>\r\n      </g>\r\n     </g>\r\n     <g id=\"text_9\">\r\n      <!-- 10000 -->\r\n      <g transform=\"translate(20.878125 185.992591)scale(0.1 -0.1)\">\r\n       <use xlink:href=\"#DejaVuSans-49\"/>\r\n       <use x=\"63.623047\" xlink:href=\"#DejaVuSans-48\"/>\r\n       <use x=\"127.246094\" xlink:href=\"#DejaVuSans-48\"/>\r\n       <use x=\"190.869141\" xlink:href=\"#DejaVuSans-48\"/>\r\n       <use x=\"254.492188\" xlink:href=\"#DejaVuSans-48\"/>\r\n      </g>\r\n     </g>\r\n    </g>\r\n    <g id=\"ytick_3\">\r\n     <g id=\"line2d_9\">\r\n      <g>\r\n       <use style=\"stroke:#000000;stroke-width:0.8;\" x=\"59.690625\" xlink:href=\"#mc837415d5f\" y=\"141.655099\"/>\r\n      </g>\r\n     </g>\r\n     <g id=\"text_10\">\r\n      <!-- 15000 -->\r\n      <g transform=\"translate(20.878125 145.454317)scale(0.1 -0.1)\">\r\n       <use xlink:href=\"#DejaVuSans-49\"/>\r\n       <use x=\"63.623047\" xlink:href=\"#DejaVuSans-53\"/>\r\n       <use x=\"127.246094\" xlink:href=\"#DejaVuSans-48\"/>\r\n       <use x=\"190.869141\" xlink:href=\"#DejaVuSans-48\"/>\r\n       <use x=\"254.492188\" xlink:href=\"#DejaVuSans-48\"/>\r\n      </g>\r\n     </g>\r\n    </g>\r\n    <g id=\"ytick_4\">\r\n     <g id=\"line2d_10\">\r\n      <g>\r\n       <use style=\"stroke:#000000;stroke-width:0.8;\" x=\"59.690625\" xlink:href=\"#mc837415d5f\" y=\"101.116826\"/>\r\n      </g>\r\n     </g>\r\n     <g id=\"text_11\">\r\n      <!-- 20000 -->\r\n      <g transform=\"translate(20.878125 104.916044)scale(0.1 -0.1)\">\r\n       <use xlink:href=\"#DejaVuSans-50\"/>\r\n       <use x=\"63.623047\" xlink:href=\"#DejaVuSans-48\"/>\r\n       <use x=\"127.246094\" xlink:href=\"#DejaVuSans-48\"/>\r\n       <use x=\"190.869141\" xlink:href=\"#DejaVuSans-48\"/>\r\n       <use x=\"254.492188\" xlink:href=\"#DejaVuSans-48\"/>\r\n      </g>\r\n     </g>\r\n    </g>\r\n    <g id=\"ytick_5\">\r\n     <g id=\"line2d_11\">\r\n      <g>\r\n       <use style=\"stroke:#000000;stroke-width:0.8;\" x=\"59.690625\" xlink:href=\"#mc837415d5f\" y=\"60.578553\"/>\r\n      </g>\r\n     </g>\r\n     <g id=\"text_12\">\r\n      <!-- 25000 -->\r\n      <g transform=\"translate(20.878125 64.377771)scale(0.1 -0.1)\">\r\n       <use xlink:href=\"#DejaVuSans-50\"/>\r\n       <use x=\"63.623047\" xlink:href=\"#DejaVuSans-53\"/>\r\n       <use x=\"127.246094\" xlink:href=\"#DejaVuSans-48\"/>\r\n       <use x=\"190.869141\" xlink:href=\"#DejaVuSans-48\"/>\r\n       <use x=\"254.492188\" xlink:href=\"#DejaVuSans-48\"/>\r\n      </g>\r\n     </g>\r\n    </g>\r\n    <g id=\"text_13\">\r\n     <!-- Decays per Minute [CPM] -->\r\n     <defs>\r\n      <path d=\"M 19.671875 64.796875 \r\nL 19.671875 8.109375 \r\nL 31.59375 8.109375 \r\nQ 46.6875 8.109375 53.6875 14.9375 \r\nQ 60.6875 21.78125 60.6875 36.53125 \r\nQ 60.6875 51.171875 53.6875 57.984375 \r\nQ 46.6875 64.796875 31.59375 64.796875 \r\nz\r\nM 9.8125 72.90625 \r\nL 30.078125 72.90625 \r\nQ 51.265625 72.90625 61.171875 64.09375 \r\nQ 71.09375 55.28125 71.09375 36.53125 \r\nQ 71.09375 17.671875 61.125 8.828125 \r\nQ 51.171875 0 30.078125 0 \r\nL 9.8125 0 \r\nz\r\n\" id=\"DejaVuSans-68\"/>\r\n      <path d=\"M 48.78125 52.59375 \r\nL 48.78125 44.1875 \r\nQ 44.96875 46.296875 41.140625 47.34375 \r\nQ 37.3125 48.390625 33.40625 48.390625 \r\nQ 24.65625 48.390625 19.8125 42.84375 \r\nQ 14.984375 37.3125 14.984375 27.296875 \r\nQ 14.984375 17.28125 19.8125 11.734375 \r\nQ 24.65625 6.203125 33.40625 6.203125 \r\nQ 37.3125 6.203125 41.140625 7.25 \r\nQ 44.96875 8.296875 48.78125 10.40625 \r\nL 48.78125 2.09375 \r\nQ 45.015625 0.34375 40.984375 -0.53125 \r\nQ 36.96875 -1.421875 32.421875 -1.421875 \r\nQ 20.0625 -1.421875 12.78125 6.34375 \r\nQ 5.515625 14.109375 5.515625 27.296875 \r\nQ 5.515625 40.671875 12.859375 48.328125 \r\nQ 20.21875 56 33.015625 56 \r\nQ 37.15625 56 41.109375 55.140625 \r\nQ 45.0625 54.296875 48.78125 52.59375 \r\nz\r\n\" id=\"DejaVuSans-99\"/>\r\n      <path d=\"M 34.28125 27.484375 \r\nQ 23.390625 27.484375 19.1875 25 \r\nQ 14.984375 22.515625 14.984375 16.5 \r\nQ 14.984375 11.71875 18.140625 8.90625 \r\nQ 21.296875 6.109375 26.703125 6.109375 \r\nQ 34.1875 6.109375 38.703125 11.40625 \r\nQ 43.21875 16.703125 43.21875 25.484375 \r\nL 43.21875 27.484375 \r\nz\r\nM 52.203125 31.203125 \r\nL 52.203125 0 \r\nL 43.21875 0 \r\nL 43.21875 8.296875 \r\nQ 40.140625 3.328125 35.546875 0.953125 \r\nQ 30.953125 -1.421875 24.3125 -1.421875 \r\nQ 15.921875 -1.421875 10.953125 3.296875 \r\nQ 6 8.015625 6 15.921875 \r\nQ 6 25.140625 12.171875 29.828125 \r\nQ 18.359375 34.515625 30.609375 34.515625 \r\nL 43.21875 34.515625 \r\nL 43.21875 35.40625 \r\nQ 43.21875 41.609375 39.140625 45 \r\nQ 35.0625 48.390625 27.6875 48.390625 \r\nQ 23 48.390625 18.546875 47.265625 \r\nQ 14.109375 46.140625 10.015625 43.890625 \r\nL 10.015625 52.203125 \r\nQ 14.9375 54.109375 19.578125 55.046875 \r\nQ 24.21875 56 28.609375 56 \r\nQ 40.484375 56 46.34375 49.84375 \r\nQ 52.203125 43.703125 52.203125 31.203125 \r\nz\r\n\" id=\"DejaVuSans-97\"/>\r\n      <path d=\"M 32.171875 -5.078125 \r\nQ 28.375 -14.84375 24.75 -17.8125 \r\nQ 21.140625 -20.796875 15.09375 -20.796875 \r\nL 7.90625 -20.796875 \r\nL 7.90625 -13.28125 \r\nL 13.1875 -13.28125 \r\nQ 16.890625 -13.28125 18.9375 -11.515625 \r\nQ 21 -9.765625 23.484375 -3.21875 \r\nL 25.09375 0.875 \r\nL 2.984375 54.6875 \r\nL 12.5 54.6875 \r\nL 29.59375 11.921875 \r\nL 46.6875 54.6875 \r\nL 56.203125 54.6875 \r\nz\r\n\" id=\"DejaVuSans-121\"/>\r\n      <path d=\"M 18.109375 8.203125 \r\nL 18.109375 -20.796875 \r\nL 9.078125 -20.796875 \r\nL 9.078125 54.6875 \r\nL 18.109375 54.6875 \r\nL 18.109375 46.390625 \r\nQ 20.953125 51.265625 25.265625 53.625 \r\nQ 29.59375 56 35.59375 56 \r\nQ 45.5625 56 51.78125 48.09375 \r\nQ 58.015625 40.1875 58.015625 27.296875 \r\nQ 58.015625 14.40625 51.78125 6.484375 \r\nQ 45.5625 -1.421875 35.59375 -1.421875 \r\nQ 29.59375 -1.421875 25.265625 0.953125 \r\nQ 20.953125 3.328125 18.109375 8.203125 \r\nz\r\nM 48.6875 27.296875 \r\nQ 48.6875 37.203125 44.609375 42.84375 \r\nQ 40.53125 48.484375 33.40625 48.484375 \r\nQ 26.265625 48.484375 22.1875 42.84375 \r\nQ 18.109375 37.203125 18.109375 27.296875 \r\nQ 18.109375 17.390625 22.1875 11.75 \r\nQ 26.265625 6.109375 33.40625 6.109375 \r\nQ 40.53125 6.109375 44.609375 11.75 \r\nQ 48.6875 17.390625 48.6875 27.296875 \r\nz\r\n\" id=\"DejaVuSans-112\"/>\r\n      <path d=\"M 41.109375 46.296875 \r\nQ 39.59375 47.171875 37.8125 47.578125 \r\nQ 36.03125 48 33.890625 48 \r\nQ 26.265625 48 22.1875 43.046875 \r\nQ 18.109375 38.09375 18.109375 28.8125 \r\nL 18.109375 0 \r\nL 9.078125 0 \r\nL 9.078125 54.6875 \r\nL 18.109375 54.6875 \r\nL 18.109375 46.1875 \r\nQ 20.953125 51.171875 25.484375 53.578125 \r\nQ 30.03125 56 36.53125 56 \r\nQ 37.453125 56 38.578125 55.875 \r\nQ 39.703125 55.765625 41.0625 55.515625 \r\nz\r\n\" id=\"DejaVuSans-114\"/>\r\n      <path d=\"M 9.8125 72.90625 \r\nL 24.515625 72.90625 \r\nL 43.109375 23.296875 \r\nL 61.8125 72.90625 \r\nL 76.515625 72.90625 \r\nL 76.515625 0 \r\nL 66.890625 0 \r\nL 66.890625 64.015625 \r\nL 48.09375 14.015625 \r\nL 38.1875 14.015625 \r\nL 19.390625 64.015625 \r\nL 19.390625 0 \r\nL 9.8125 0 \r\nz\r\n\" id=\"DejaVuSans-77\"/>\r\n      <path d=\"M 54.890625 33.015625 \r\nL 54.890625 0 \r\nL 45.90625 0 \r\nL 45.90625 32.71875 \r\nQ 45.90625 40.484375 42.875 44.328125 \r\nQ 39.84375 48.1875 33.796875 48.1875 \r\nQ 26.515625 48.1875 22.3125 43.546875 \r\nQ 18.109375 38.921875 18.109375 30.90625 \r\nL 18.109375 0 \r\nL 9.078125 0 \r\nL 9.078125 54.6875 \r\nL 18.109375 54.6875 \r\nL 18.109375 46.1875 \r\nQ 21.34375 51.125 25.703125 53.5625 \r\nQ 30.078125 56 35.796875 56 \r\nQ 45.21875 56 50.046875 50.171875 \r\nQ 54.890625 44.34375 54.890625 33.015625 \r\nz\r\n\" id=\"DejaVuSans-110\"/>\r\n      <path d=\"M 8.5 21.578125 \r\nL 8.5 54.6875 \r\nL 17.484375 54.6875 \r\nL 17.484375 21.921875 \r\nQ 17.484375 14.15625 20.5 10.265625 \r\nQ 23.53125 6.390625 29.59375 6.390625 \r\nQ 36.859375 6.390625 41.078125 11.03125 \r\nQ 45.3125 15.671875 45.3125 23.6875 \r\nL 45.3125 54.6875 \r\nL 54.296875 54.6875 \r\nL 54.296875 0 \r\nL 45.3125 0 \r\nL 45.3125 8.40625 \r\nQ 42.046875 3.421875 37.71875 1 \r\nQ 33.40625 -1.421875 27.6875 -1.421875 \r\nQ 18.265625 -1.421875 13.375 4.4375 \r\nQ 8.5 10.296875 8.5 21.578125 \r\nz\r\nM 31.109375 56 \r\nz\r\n\" id=\"DejaVuSans-117\"/>\r\n      <path d=\"M 64.40625 67.28125 \r\nL 64.40625 56.890625 \r\nQ 59.421875 61.53125 53.78125 63.8125 \r\nQ 48.140625 66.109375 41.796875 66.109375 \r\nQ 29.296875 66.109375 22.65625 58.46875 \r\nQ 16.015625 50.828125 16.015625 36.375 \r\nQ 16.015625 21.96875 22.65625 14.328125 \r\nQ 29.296875 6.6875 41.796875 6.6875 \r\nQ 48.140625 6.6875 53.78125 8.984375 \r\nQ 59.421875 11.28125 64.40625 15.921875 \r\nL 64.40625 5.609375 \r\nQ 59.234375 2.09375 53.4375 0.328125 \r\nQ 47.65625 -1.421875 41.21875 -1.421875 \r\nQ 24.65625 -1.421875 15.125 8.703125 \r\nQ 5.609375 18.84375 5.609375 36.375 \r\nQ 5.609375 53.953125 15.125 64.078125 \r\nQ 24.65625 74.21875 41.21875 74.21875 \r\nQ 47.75 74.21875 53.53125 72.484375 \r\nQ 59.328125 70.75 64.40625 67.28125 \r\nz\r\n\" id=\"DejaVuSans-67\"/>\r\n      <path d=\"M 19.671875 64.796875 \r\nL 19.671875 37.40625 \r\nL 32.078125 37.40625 \r\nQ 38.96875 37.40625 42.71875 40.96875 \r\nQ 46.484375 44.53125 46.484375 51.125 \r\nQ 46.484375 57.671875 42.71875 61.234375 \r\nQ 38.96875 64.796875 32.078125 64.796875 \r\nz\r\nM 9.8125 72.90625 \r\nL 32.078125 72.90625 \r\nQ 44.34375 72.90625 50.609375 67.359375 \r\nQ 56.890625 61.8125 56.890625 51.125 \r\nQ 56.890625 40.328125 50.609375 34.8125 \r\nQ 44.34375 29.296875 32.078125 29.296875 \r\nL 19.671875 29.296875 \r\nL 19.671875 0 \r\nL 9.8125 0 \r\nz\r\n\" id=\"DejaVuSans-80\"/>\r\n     </defs>\r\n     <g transform=\"translate(14.798438 194.214687)rotate(-90)scale(0.1 -0.1)\">\r\n      <use xlink:href=\"#DejaVuSans-68\"/>\r\n      <use x=\"77.001953\" xlink:href=\"#DejaVuSans-101\"/>\r\n      <use x=\"138.525391\" xlink:href=\"#DejaVuSans-99\"/>\r\n      <use x=\"193.505859\" xlink:href=\"#DejaVuSans-97\"/>\r\n      <use x=\"254.785156\" xlink:href=\"#DejaVuSans-121\"/>\r\n      <use x=\"313.964844\" xlink:href=\"#DejaVuSans-115\"/>\r\n      <use x=\"366.064453\" xlink:href=\"#DejaVuSans-32\"/>\r\n      <use x=\"397.851562\" xlink:href=\"#DejaVuSans-112\"/>\r\n      <use x=\"461.328125\" xlink:href=\"#DejaVuSans-101\"/>\r\n      <use x=\"522.851562\" xlink:href=\"#DejaVuSans-114\"/>\r\n      <use x=\"563.964844\" xlink:href=\"#DejaVuSans-32\"/>\r\n      <use x=\"595.751953\" xlink:href=\"#DejaVuSans-77\"/>\r\n      <use x=\"682.03125\" xlink:href=\"#DejaVuSans-105\"/>\r\n      <use x=\"709.814453\" xlink:href=\"#DejaVuSans-110\"/>\r\n      <use x=\"773.193359\" xlink:href=\"#DejaVuSans-117\"/>\r\n      <use x=\"836.572266\" xlink:href=\"#DejaVuSans-116\"/>\r\n      <use x=\"875.78125\" xlink:href=\"#DejaVuSans-101\"/>\r\n      <use x=\"937.304688\" xlink:href=\"#DejaVuSans-32\"/>\r\n      <use x=\"969.091797\" xlink:href=\"#DejaVuSans-91\"/>\r\n      <use x=\"1008.105469\" xlink:href=\"#DejaVuSans-67\"/>\r\n      <use x=\"1077.929688\" xlink:href=\"#DejaVuSans-80\"/>\r\n      <use x=\"1138.232422\" xlink:href=\"#DejaVuSans-77\"/>\r\n      <use x=\"1224.511719\" xlink:href=\"#DejaVuSans-93\"/>\r\n     </g>\r\n    </g>\r\n   </g>\r\n   <g id=\"line2d_12\">\r\n    <defs>\r\n     <path d=\"M -3 3 \r\nL 3 -3 \r\nM -3 -3 \r\nL 3 3 \r\n\" id=\"m0c022c0618\" style=\"stroke:#ff0000;\"/>\r\n    </defs>\r\n    <g clip-path=\"url(#p12e6482ff7)\">\r\n     <use style=\"fill:#ff0000;stroke:#ff0000;\" x=\"81.262954\" xlink:href=\"#m0c022c0618\" y=\"39.214883\"/>\r\n     <use style=\"fill:#ff0000;stroke:#ff0000;\" x=\"87.616465\" xlink:href=\"#m0c022c0618\" y=\"45.871267\"/>\r\n     <use style=\"fill:#ff0000;stroke:#ff0000;\" x=\"93.971248\" xlink:href=\"#m0c022c0618\" y=\"53.630293\"/>\r\n     <use style=\"fill:#ff0000;stroke:#ff0000;\" x=\"100.324759\" xlink:href=\"#m0c022c0618\" y=\"62.775727\"/>\r\n     <use style=\"fill:#ff0000;stroke:#ff0000;\" x=\"106.679541\" xlink:href=\"#m0c022c0618\" y=\"68.597023\"/>\r\n     <use style=\"fill:#ff0000;stroke:#ff0000;\" x=\"113.033053\" xlink:href=\"#m0c022c0618\" y=\"77.661381\"/>\r\n     <use style=\"fill:#ff0000;stroke:#ff0000;\" x=\"119.387835\" xlink:href=\"#m0c022c0618\" y=\"80.799043\"/>\r\n     <use style=\"fill:#ff0000;stroke:#ff0000;\" x=\"125.741982\" xlink:href=\"#m0c022c0618\" y=\"90.73092\"/>\r\n     <use style=\"fill:#ff0000;stroke:#ff0000;\" x=\"132.095493\" xlink:href=\"#m0c022c0618\" y=\"100.241199\"/>\r\n     <use style=\"fill:#ff0000;stroke:#ff0000;\" x=\"138.450276\" xlink:href=\"#m0c022c0618\" y=\"104.692301\"/>\r\n     <use style=\"fill:#ff0000;stroke:#ff0000;\" x=\"144.803787\" xlink:href=\"#m0c022c0618\" y=\"111.259502\"/>\r\n     <use style=\"fill:#ff0000;stroke:#ff0000;\" x=\"151.15857\" xlink:href=\"#m0c022c0618\" y=\"117.048367\"/>\r\n     <use style=\"fill:#ff0000;stroke:#ff0000;\" x=\"157.512081\" xlink:href=\"#m0c022c0618\" y=\"122.958847\"/>\r\n     <use style=\"fill:#ff0000;stroke:#ff0000;\" x=\"163.866863\" xlink:href=\"#m0c022c0618\" y=\"129.13688\"/>\r\n     <use style=\"fill:#ff0000;stroke:#ff0000;\" x=\"170.22101\" xlink:href=\"#m0c022c0618\" y=\"134.00958\"/>\r\n     <use style=\"fill:#ff0000;stroke:#ff0000;\" x=\"176.574522\" xlink:href=\"#m0c022c0618\" y=\"140.771364\"/>\r\n     <use style=\"fill:#ff0000;stroke:#ff0000;\" x=\"182.929304\" xlink:href=\"#m0c022c0618\" y=\"143.227984\"/>\r\n     <use style=\"fill:#ff0000;stroke:#ff0000;\" x=\"189.282816\" xlink:href=\"#m0c022c0618\" y=\"149.268186\"/>\r\n     <use style=\"fill:#ff0000;stroke:#ff0000;\" x=\"195.637598\" xlink:href=\"#m0c022c0618\" y=\"153.111215\"/>\r\n     <use style=\"fill:#ff0000;stroke:#ff0000;\" x=\"201.991109\" xlink:href=\"#m0c022c0618\" y=\"159.913537\"/>\r\n     <use style=\"fill:#ff0000;stroke:#ff0000;\" x=\"208.345892\" xlink:href=\"#m0c022c0618\" y=\"161.097255\"/>\r\n     <use style=\"fill:#ff0000;stroke:#ff0000;\" x=\"214.700039\" xlink:href=\"#m0c022c0618\" y=\"166.959089\"/>\r\n     <use style=\"fill:#ff0000;stroke:#ff0000;\" x=\"221.05355\" xlink:href=\"#m0c022c0618\" y=\"171.053454\"/>\r\n     <use style=\"fill:#ff0000;stroke:#ff0000;\" x=\"227.408332\" xlink:href=\"#m0c022c0618\" y=\"172.974969\"/>\r\n     <use style=\"fill:#ff0000;stroke:#ff0000;\" x=\"233.761844\" xlink:href=\"#m0c022c0618\" y=\"177.344994\"/>\r\n     <use style=\"fill:#ff0000;stroke:#ff0000;\" x=\"240.116626\" xlink:href=\"#m0c022c0618\" y=\"181.325853\"/>\r\n     <use style=\"fill:#ff0000;stroke:#ff0000;\" x=\"246.470138\" xlink:href=\"#m0c022c0618\" y=\"183.92841\"/>\r\n     <use style=\"fill:#ff0000;stroke:#ff0000;\" x=\"252.82492\" xlink:href=\"#m0c022c0618\" y=\"187.382271\"/>\r\n     <use style=\"fill:#ff0000;stroke:#ff0000;\" x=\"259.179067\" xlink:href=\"#m0c022c0618\" y=\"191.509067\"/>\r\n     <use style=\"fill:#ff0000;stroke:#ff0000;\" x=\"265.532578\" xlink:href=\"#m0c022c0618\" y=\"194.630514\"/>\r\n     <use style=\"fill:#ff0000;stroke:#ff0000;\" x=\"271.887361\" xlink:href=\"#m0c022c0618\" y=\"196.941196\"/>\r\n     <use style=\"fill:#ff0000;stroke:#ff0000;\" x=\"278.240872\" xlink:href=\"#m0c022c0618\" y=\"199.065401\"/>\r\n     <use style=\"fill:#ff0000;stroke:#ff0000;\" x=\"284.595654\" xlink:href=\"#m0c022c0618\" y=\"201.992264\"/>\r\n     <use style=\"fill:#ff0000;stroke:#ff0000;\" x=\"290.949166\" xlink:href=\"#m0c022c0618\" y=\"203.411104\"/>\r\n     <use style=\"fill:#ff0000;stroke:#ff0000;\" x=\"297.303948\" xlink:href=\"#m0c022c0618\" y=\"207.302778\"/>\r\n     <use style=\"fill:#ff0000;stroke:#ff0000;\" x=\"303.658095\" xlink:href=\"#m0c022c0618\" y=\"208.705402\"/>\r\n     <use style=\"fill:#ff0000;stroke:#ff0000;\" x=\"310.011607\" xlink:href=\"#m0c022c0618\" y=\"210.699885\"/>\r\n     <use style=\"fill:#ff0000;stroke:#ff0000;\" x=\"316.366389\" xlink:href=\"#m0c022c0618\" y=\"213.983486\"/>\r\n     <use style=\"fill:#ff0000;stroke:#ff0000;\" x=\"322.7199\" xlink:href=\"#m0c022c0618\" y=\"215.564478\"/>\r\n     <use style=\"fill:#ff0000;stroke:#ff0000;\" x=\"329.074683\" xlink:href=\"#m0c022c0618\" y=\"217.802191\"/>\r\n     <use style=\"fill:#ff0000;stroke:#ff0000;\" x=\"335.428194\" xlink:href=\"#m0c022c0618\" y=\"219.918289\"/>\r\n     <use style=\"fill:#ff0000;stroke:#ff0000;\" x=\"341.782976\" xlink:href=\"#m0c022c0618\" y=\"221.118222\"/>\r\n     <use style=\"fill:#ff0000;stroke:#ff0000;\" x=\"348.137123\" xlink:href=\"#m0c022c0618\" y=\"223.40458\"/>\r\n     <use style=\"fill:#ff0000;stroke:#ff0000;\" x=\"354.490635\" xlink:href=\"#m0c022c0618\" y=\"225.455817\"/>\r\n     <use style=\"fill:#ff0000;stroke:#ff0000;\" x=\"360.845417\" xlink:href=\"#m0c022c0618\" y=\"226.485489\"/>\r\n     <use style=\"fill:#ff0000;stroke:#ff0000;\" x=\"367.198929\" xlink:href=\"#m0c022c0618\" y=\"227.677314\"/>\r\n     <use style=\"fill:#ff0000;stroke:#ff0000;\" x=\"373.553711\" xlink:href=\"#m0c022c0618\" y=\"229.874489\"/>\r\n    </g>\r\n   </g>\r\n   <g id=\"line2d_13\">\r\n    <path clip-path=\"url(#p12e6482ff7)\" d=\"M 74.908807 32.201761 \r\nL 81.262954 41.262073 \r\nL 87.617101 49.967125 \r\nL 94.606662 59.148967 \r\nL 101.596224 67.935566 \r\nL 108.585785 76.343937 \r\nL 115.575347 84.39036 \r\nL 122.564909 92.090417 \r\nL 129.55447 99.459017 \r\nL 136.544032 106.510428 \r\nL 143.533593 113.258304 \r\nL 150.523155 119.71571 \r\nL 158.148131 126.443552 \r\nL 165.773107 132.856086 \r\nL 173.398084 138.968088 \r\nL 181.02306 144.793644 \r\nL 188.648036 150.346179 \r\nL 196.273013 155.638487 \r\nL 204.533404 161.092293 \r\nL 212.793794 166.269749 \r\nL 221.054185 171.184858 \r\nL 229.314576 175.850912 \r\nL 238.210382 180.611827 \r\nL 247.106188 185.113458 \r\nL 256.001993 189.369926 \r\nL 265.533214 193.673527 \r\nL 275.064434 197.726505 \r\nL 284.595654 201.543456 \r\nL 294.762289 205.370188 \r\nL 304.928924 208.959682 \r\nL 315.730974 212.530011 \r\nL 326.533024 215.865629 \r\nL 337.970488 219.158762 \r\nL 349.407953 222.223125 \r\nL 361.480832 225.227085 \r\nL 374.189126 228.151957 \r\nL 379.272443 229.257941 \r\nL 379.272443 229.257941 \r\n\" style=\"fill:none;stroke:#008000;stroke-linecap:square;stroke-width:1.5;\"/>\r\n   </g>\r\n   <g id=\"patch_3\">\r\n    <path d=\"M 59.690625 239.758125 \r\nL 59.690625 22.318125 \r\n\" style=\"fill:none;stroke:#000000;stroke-linecap:square;stroke-linejoin:miter;stroke-width:0.8;\"/>\r\n   </g>\r\n   <g id=\"patch_4\">\r\n    <path d=\"M 394.490625 239.758125 \r\nL 394.490625 22.318125 \r\n\" style=\"fill:none;stroke:#000000;stroke-linecap:square;stroke-linejoin:miter;stroke-width:0.8;\"/>\r\n   </g>\r\n   <g id=\"patch_5\">\r\n    <path d=\"M 59.690625 239.758125 \r\nL 394.490625 239.758125 \r\n\" style=\"fill:none;stroke:#000000;stroke-linecap:square;stroke-linejoin:miter;stroke-width:0.8;\"/>\r\n   </g>\r\n   <g id=\"patch_6\">\r\n    <path d=\"M 59.690625 22.318125 \r\nL 394.490625 22.318125 \r\n\" style=\"fill:none;stroke:#000000;stroke-linecap:square;stroke-linejoin:miter;stroke-width:0.8;\"/>\r\n   </g>\r\n   <g id=\"text_14\">\r\n    <!-- Radioactive Decay -->\r\n    <defs>\r\n     <path d=\"M 44.390625 34.1875 \r\nQ 47.5625 33.109375 50.5625 29.59375 \r\nQ 53.5625 26.078125 56.59375 19.921875 \r\nL 66.609375 0 \r\nL 56 0 \r\nL 46.6875 18.703125 \r\nQ 43.0625 26.03125 39.671875 28.421875 \r\nQ 36.28125 30.8125 30.421875 30.8125 \r\nL 19.671875 30.8125 \r\nL 19.671875 0 \r\nL 9.8125 0 \r\nL 9.8125 72.90625 \r\nL 32.078125 72.90625 \r\nQ 44.578125 72.90625 50.734375 67.671875 \r\nQ 56.890625 62.453125 56.890625 51.90625 \r\nQ 56.890625 45.015625 53.6875 40.46875 \r\nQ 50.484375 35.9375 44.390625 34.1875 \r\nz\r\nM 19.671875 64.796875 \r\nL 19.671875 38.921875 \r\nL 32.078125 38.921875 \r\nQ 39.203125 38.921875 42.84375 42.21875 \r\nQ 46.484375 45.515625 46.484375 51.90625 \r\nQ 46.484375 58.296875 42.84375 61.546875 \r\nQ 39.203125 64.796875 32.078125 64.796875 \r\nz\r\n\" id=\"DejaVuSans-82\"/>\r\n     <path d=\"M 45.40625 46.390625 \r\nL 45.40625 75.984375 \r\nL 54.390625 75.984375 \r\nL 54.390625 0 \r\nL 45.40625 0 \r\nL 45.40625 8.203125 \r\nQ 42.578125 3.328125 38.25 0.953125 \r\nQ 33.9375 -1.421875 27.875 -1.421875 \r\nQ 17.96875 -1.421875 11.734375 6.484375 \r\nQ 5.515625 14.40625 5.515625 27.296875 \r\nQ 5.515625 40.1875 11.734375 48.09375 \r\nQ 17.96875 56 27.875 56 \r\nQ 33.9375 56 38.25 53.625 \r\nQ 42.578125 51.265625 45.40625 46.390625 \r\nz\r\nM 14.796875 27.296875 \r\nQ 14.796875 17.390625 18.875 11.75 \r\nQ 22.953125 6.109375 30.078125 6.109375 \r\nQ 37.203125 6.109375 41.296875 11.75 \r\nQ 45.40625 17.390625 45.40625 27.296875 \r\nQ 45.40625 37.203125 41.296875 42.84375 \r\nQ 37.203125 48.484375 30.078125 48.484375 \r\nQ 22.953125 48.484375 18.875 42.84375 \r\nQ 14.796875 37.203125 14.796875 27.296875 \r\nz\r\n\" id=\"DejaVuSans-100\"/>\r\n     <path d=\"M 30.609375 48.390625 \r\nQ 23.390625 48.390625 19.1875 42.75 \r\nQ 14.984375 37.109375 14.984375 27.296875 \r\nQ 14.984375 17.484375 19.15625 11.84375 \r\nQ 23.34375 6.203125 30.609375 6.203125 \r\nQ 37.796875 6.203125 41.984375 11.859375 \r\nQ 46.1875 17.53125 46.1875 27.296875 \r\nQ 46.1875 37.015625 41.984375 42.703125 \r\nQ 37.796875 48.390625 30.609375 48.390625 \r\nz\r\nM 30.609375 56 \r\nQ 42.328125 56 49.015625 48.375 \r\nQ 55.71875 40.765625 55.71875 27.296875 \r\nQ 55.71875 13.875 49.015625 6.21875 \r\nQ 42.328125 -1.421875 30.609375 -1.421875 \r\nQ 18.84375 -1.421875 12.171875 6.21875 \r\nQ 5.515625 13.875 5.515625 27.296875 \r\nQ 5.515625 40.765625 12.171875 48.375 \r\nQ 18.84375 56 30.609375 56 \r\nz\r\n\" id=\"DejaVuSans-111\"/>\r\n     <path d=\"M 2.984375 54.6875 \r\nL 12.5 54.6875 \r\nL 29.59375 8.796875 \r\nL 46.6875 54.6875 \r\nL 56.203125 54.6875 \r\nL 35.6875 0 \r\nL 23.484375 0 \r\nz\r\n\" id=\"DejaVuSans-118\"/>\r\n    </defs>\r\n    <g transform=\"translate(171.115313 16.318125)scale(0.12 -0.12)\">\r\n     <use xlink:href=\"#DejaVuSans-82\"/>\r\n     <use x=\"69.451172\" xlink:href=\"#DejaVuSans-97\"/>\r\n     <use x=\"130.730469\" xlink:href=\"#DejaVuSans-100\"/>\r\n     <use x=\"194.207031\" xlink:href=\"#DejaVuSans-105\"/>\r\n     <use x=\"221.990234\" xlink:href=\"#DejaVuSans-111\"/>\r\n     <use x=\"283.171875\" xlink:href=\"#DejaVuSans-97\"/>\r\n     <use x=\"344.451172\" xlink:href=\"#DejaVuSans-99\"/>\r\n     <use x=\"399.431641\" xlink:href=\"#DejaVuSans-116\"/>\r\n     <use x=\"438.640625\" xlink:href=\"#DejaVuSans-105\"/>\r\n     <use x=\"466.423828\" xlink:href=\"#DejaVuSans-118\"/>\r\n     <use x=\"525.603516\" xlink:href=\"#DejaVuSans-101\"/>\r\n     <use x=\"587.126953\" xlink:href=\"#DejaVuSans-32\"/>\r\n     <use x=\"618.914062\" xlink:href=\"#DejaVuSans-68\"/>\r\n     <use x=\"695.916016\" xlink:href=\"#DejaVuSans-101\"/>\r\n     <use x=\"757.439453\" xlink:href=\"#DejaVuSans-99\"/>\r\n     <use x=\"812.419922\" xlink:href=\"#DejaVuSans-97\"/>\r\n     <use x=\"873.699219\" xlink:href=\"#DejaVuSans-121\"/>\r\n    </g>\r\n   </g>\r\n  </g>\r\n </g>\r\n <defs>\r\n  <clipPath id=\"p12e6482ff7\">\r\n   <rect height=\"217.44\" width=\"334.8\" x=\"59.690625\" y=\"22.318125\"/>\r\n  </clipPath>\r\n </defs>\r\n</svg>\r\n",
      "text/plain": "<Figure size 432x288 with 1 Axes>"
     },
     "metadata": {
      "needs_background": "light"
     },
     "output_type": "display_data"
    }
   ],
   "source": [
    "import numpy as np\n",
    "import matplotlib.pyplot as plt\n",
    "\n",
    "### Load the data\n",
    "data = np.loadtxt(\"Ba137.txt\")\n",
    "\n",
    "### Devide up data into cpm (counts per minute) and time\n",
    "cpm = [elem[0] for elem in data]\n",
    "time = [elem[1] for elem in data]\n",
    "    \n",
    "time2 = np.arange(0,480,1)\n",
    "plt.figure()    # Start a clean figure for your first plot\n",
    "\n",
    "### Your code for the first plot here!\n",
    "plt.title(\"Radioactive Decay\") #Add a title and label the axes \n",
    "plt.xlabel(\"time [s]\")\n",
    "plt.ylabel(\"Decays per Minute [CPM]\")\n",
    "plt.plot(time, cpm, 'rx') \n",
    "plt.plot(time2, 28500 * np.exp(-0.004 * time2), 'g') #This overlays the exponential decay function in green"
   ]
  },
  {
   "cell_type": "markdown",
   "metadata": {},
   "source": [
    "#### Hints\n",
    "\n",
    "Remember to comment your code and use descriptive variable names so others (and future you) can understand what you're doing!"
   ]
  },
  {
   "cell_type": "code",
   "execution_count": 8,
   "metadata": {},
   "outputs": [
    {
     "name": "stdout",
     "output_type": "stream",
     "text": [
      "Estimated halflife = 75.3 seconds.\n"
     ]
    }
   ],
   "source": [
    "t_halflife = np.log10(2)/0.004\n",
    "print(\"Estimated halflife = \" + str(round(t_halflife,1)) + \" seconds.\")"
   ]
  },
  {
   "cell_type": "code",
   "execution_count": null,
   "metadata": {},
   "outputs": [],
   "source": []
  }
 ],
 "metadata": {
  "kernelspec": {
   "display_name": "Python 3",
   "language": "python",
   "name": "python3"
  },
  "language_info": {
   "codemirror_mode": {
    "name": "ipython",
    "version": 3
   },
   "file_extension": ".py",
   "mimetype": "text/x-python",
   "name": "python",
   "nbconvert_exporter": "python",
   "pygments_lexer": "ipython3",
   "version": "3.8.0-final"
  }
 },
 "nbformat": 4,
 "nbformat_minor": 1
}