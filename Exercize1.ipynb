{
 "cells": [
  {
   "cell_type": "markdown",
   "metadata": {},
   "source": [
    "Jurij  \n",
    "101"
   ]
  },
  {
   "cell_type": "markdown",
   "metadata": {},
   "source": [
    "# Homework 1: Python basics and a little plotting"
   ]
  },
  {
   "cell_type": "markdown",
   "metadata": {},
   "source": [
    "** Submit this notebook to bCourses to receive a credit for this assignment.**\n",
    "\n",
    "Please complete this homework assignment in code cells in the iPython notebook. Include comments in your code when necessary. Enter your name in the cell at the top of the notebook, and rename the notebook [email_name]_HW01.ipynb, where [email_name] is the part of your UCB email address that precedes \"@berkeley.edu\" "
   ]
  },
  {
   "cell_type": "markdown",
   "metadata": {},
   "source": [
    "## Problem 1: Satellite Altitudes\n",
    "\n",
    "[Adapted from Newman, Exercise 2.2] A satellite is to be launched into a circular orbit around the Earth so that it orbits the planet once every $T$ seconds. The altitude $h$ above the Earth's surface that the satellite must have is $$ h = \\left( \\frac{G M T^2}{4 \\pi^2} \\right)^{1/3} - R, $$ where $G = 6.67 \\times 10^{-11}~\\text{m}^3~\\text{kg}^{-1}~\\text{s}^{-2}$ is Newton's gravitational constant, $M = 5.97 \\times 10^{24}~\\text{kg}$ is the mass of the Earth, and $R = 6371~\\text{km}$ is its radius."
   ]
  },
  {
   "cell_type": "markdown",
   "metadata": {},
   "source": [
    "**1a.** Write a program that, for a given value of $T$ (entered as a variable T in a cell), calculates and prints out the correct altitude in meters, kilometers, and miles, with one decimal place for each result.\n",
    "\n",
    "*Output for 1a*: When the code cell for this part of the problem is entered, it should specify (in the comments or the Markdown cell above) what units of $T$ are assumed. The program should print out the correct altitude in meters, kilometers, and miles, with one decimal place for each result."
   ]
  },
  {
   "cell_type": "code",
   "execution_count": 9,
   "metadata": {},
   "outputs": [
    {
     "name": "stdout",
     "output_type": "stream",
     "text": "The satelite orbits at 21599916108.2 meters (21599916.1 km, 13421561.5 mls).\n"
    }
   ],
   "source": [
    "import numpy as np\n",
    "\n",
    "# Define constants\n",
    "G = 6.67 * 10 ** (-11) # Gravitational const.\n",
    "M = 5.97 * 10 ** 24 # Mass of Earth in kgs\n",
    "R = 6371 * 10 ** 3 # Radius of Earth in meters\n",
    "\n",
    "def altitude(T): \n",
    "    \"\"\"\n",
    "    Takes a time T in seconds and returns the altitude in meters, kilometers, and miles to 1 d.p\n",
    "    for a satelite be in stable orbit around Earth with a period T seconds.\n",
    "    Args:\n",
    "    T -> Int\n",
    "    Returns:\n",
    "    altitudes -> Dict\n",
    "    \"\"\"\n",
    "    height_meters = ((G * M * T ** 2) / (4*(np.pi) ** 2)) ** (1/3) - R # Calculated altitude in meters\n",
    "    height_kilometers = height_meters / 1000 # Altitude in kilometers\n",
    "    height_miles = 0.621371 * height_kilometers # Altitude in miles\n",
    "    \n",
    "    # Create a dictionary returning the altitudes to 1 d.p\n",
    "    altitudes = {\n",
    "        \"meters\": round(height_meters, 1), \n",
    "        \"kilometers\": round(height_kilometers, 1), \n",
    "        \"miles\": round(height_miles, 1)\n",
    "        }\n",
    "\n",
    "    # Return the dict\n",
    "    return altitudes\n",
    "\n",
    "# Get user input\n",
    "T = int(input(\"Please enter a value for T in seconds: \"))\n",
    "# Unpack function output\n",
    "altitudes = altitude(T)\n",
    "meters, kilometers, miles = altitudes[\"meters\"], altitudes[\"kilometers\"], altitudes[\"miles\"]\n",
    "# Print the information\n",
    "print(f\"The satelite orbits at {meters} meters ({kilometers} km, {miles} mls).\")\n",
    "    "
   ]
  },
  {
   "cell_type": "markdown",
   "metadata": {},
   "source": [
    "*Output for 1b and 1c:* Use code cells to carry out the desired calculations, and Markdown cells to present and discuss your results."
   ]
  },
  {
   "cell_type": "markdown",
   "metadata": {},
   "source": [
    "**1b.** Use your program to calculate the altitudes of satellites that orbit the Earth once a day (so-called \"geosynchronous\" orbit), once every 90 minutes, and once every 45 minutes. What do you conclude from the last of these calculations?"
   ]
  },
  {
   "cell_type": "code",
   "execution_count": 19,
   "metadata": {},
   "outputs": [
    {
     "name": "stdout",
     "output_type": "stream",
     "text": "A geosynchronous satelite orbits at 35855.9 km.\nA satelite's stable orbiting altitude with a period of 90 minutes is 279.3 km.\nA satelite's stable orbiting altitude with a period of 45 minutes is -2181.6 km.\n"
    }
   ],
   "source": [
    "# Get orbital altitude for a geosynchronous satelite\n",
    "altitudes = altitude(24 * 60 * 60)\n",
    "height_kilometers = altitudes[\"kilometers\"]\n",
    "print(f\"A geosynchronous satelite orbits at {height_kilometers} km.\")\n",
    "\n",
    "# Do the same for 90 minutes and 45 minutes\n",
    "altitudes = altitude(90 * 60)\n",
    "height_kilometers = altitudes[\"kilometers\"]\n",
    "print(f\"A satelite's stable orbiting altitude with a period of 90 minutes is {height_kilometers} km.\")\n",
    "altitudes = altitude(45 * 60)\n",
    "height_kilometers = altitudes[\"kilometers\"]\n",
    "print(f\"A satelite's stable orbiting altitude with a period of 45 minutes is {height_kilometers} km.\")"
   ]
  },
  {
   "cell_type": "markdown",
   "metadata": {},
   "source": [
    "The last of these gives a negaitve value for h. This means it is physically impossible for a satelite to orbit earth once every 45 minutes."
   ]
  },
  {
   "cell_type": "markdown",
   "metadata": {},
   "source": [
    "**1c.** Technically a geosynchronous satellite is one that orbits the Earth once per *sidereal day*, which is 23.93 hours, not 24 hours. Why is this? And how much difference will it make to the altitude of the satellite?"
   ]
  },
  {
   "cell_type": "code",
   "execution_count": 21,
   "metadata": {},
   "outputs": [
    {
     "name": "stdout",
     "output_type": "stream",
     "text": "A satelite with an orbital period of 24h orbits at an altitude of 35855.9 km.\nA satelite with an orbital period of 23.93h orbits at an altitude of 35773.8 km.\nThis makes the difference between their orbits 82.1 km.\n"
    }
   ],
   "source": [
    "# Calculate the altitude for a full 24h day and a shorter 23.93h day\n",
    "height_kilometers_full_day = altitude(24 * 60 * 60)[\"kilometers\"]\n",
    "height_kilometers_shorter_day = altitude(23.93 * 60 * 60)[\"kilometers\"]\n",
    "# Calculate the difference to 1 d.p\n",
    "difference = abs(round(height_kilometers_full_day - height_kilometers_shorter_day, 1))\n",
    "\n",
    "print(f\"A satelite with an orbital period of 24h orbits at an altitude of {height_kilometers_full_day} km.\")\n",
    "print(f\"A satelite with an orbital period of 23.93h orbits at an altitude of {height_kilometers_shorter_day} km.\")\n",
    "print(f\"This makes the difference between their orbits {difference} km.\")"
   ]
  },
  {
   "cell_type": "markdown",
   "metadata": {},
   "source": [
    "Sidereal orbit matches the rotation of Earth relative to the starts (23.93h) rather than the Earth's rotation relative to the sun (24h). This is probably quite useful to astronomers who want to be able to study distant stars reliably. Difference is about 82.1km less for the sidereal orbit."
   ]
  },
  {
   "cell_type": "markdown",
   "metadata": {},
   "source": [
    "#### Hints\n",
    "\n",
    "Be very careful of units! Unlike wolframalpha.com, python is oblivious to what units your various numbers represent. You need to carefully keep track of them to make sure that your units work out. Not converting units properly can lead to [very expensive disasters](https://en.wikipedia.org/wiki/Mars_Climate_Orbiter) or just wrong scientific results ...\n",
    "\n",
    "Remember to comment your code and use descriptive variable names so others (and future you) can understand what you're doing!"
   ]
  },
  {
   "cell_type": "markdown",
   "metadata": {},
   "source": [
    "## Problem 2: Perfect Hardboiled Eggs\n",
    "\n",
    "[Adapted from Langtangen, Exercise 1.12. You may derive the formula in Physics 112 or Physics 89] As an egg cooks, the proteins first denature and then coagulate. When the temperature exceeds a critical point, reactions begin and proceed faster as the temperature increases. In the egg white the proteins start to coagulate for temperatures above 63 C, while in the  yolk the proteins start to coagulate for temperatures above 70 C. For a soft boiled egg, the white needs to have been heated long enough to coagulate at a temperature above 63 C, but the yolk should not be heated above 70 C. For a hard boiled egg, the center of the yolk should be allowed to reach 70 C.\n",
    "\n",
    "The following formula expresses the time $t$ it takes (in seconds) for the center of the yolk to reach the temperature $T_y$ (in Celsius degrees): $$ t = \\frac{M^{2/3} c \\rho^{1/3}}{K \\pi^2 (4\\pi/3)^{2/3}} \\ln \\left[ 0.76 \\frac{T_0 - T_w}{T_y - T_w} \\right] . $$ Here, $M$, $\\rho$, $c$, and $K$ are properties of the egg:\n",
    "* $M$ is the mass,\n",
    "* $\\rho$ is the density,\n",
    "* $c$ is the specific heat capacity, and \n",
    "* $K$ is the thermal conductivity.\n",
    "\n",
    "Relevant values are\n",
    "* $M = 64~\\text{g}$ for a large egg (USA size XL: en.wikipedia.org/wiki/Chicken_egg_sizes),\n",
    "* $\\rho = 1.0378~\\text{g cm}^{-3}$,\n",
    "* $c = 3.7~\\text{J g}^{-1}\\,\\text{K}^{-1}$, and\n",
    "* $K = 5.4 \\cdot 10^{-3}~\\text{W cm}^{-1}\\,\\text{K}^{-1}$.\n",
    "\n",
    "Furthermore,\n",
    "* $T_w$ is the temperature (in C degrees) of the boiling water, and\n",
    "* $T_0$ is the original temperature (in C degrees) of the egg before being put in the water.\n",
    "\n",
    "Suppose we want our eggs hard-boiled. Implement the formula in a program, set $T_w = 100~\\text{C}$ and $T_y = 70~\\text{C}$, and compute $t$ for a large egg taken from the fridge ($T_0 = 4~\\text{C}$) and from room temperature ($T_0 = 20~\\text{C}$). Also compute the results for a small egg ($M = 42~\\text{g}$)."
   ]
  },
  {
   "cell_type": "markdown",
   "metadata": {},
   "source": [
    "print(str(round(boil_time(64,20)/60,3)))\n",
    "print(str(round(boil_time(64,20)/60,2)))"
   ]
  },
  {
   "cell_type": "markdown",
   "metadata": {},
   "source": [
    "*Output for 2:*\n",
    "When you run your code cell, it should produce the following text, with your numbers instead of the `TTT`, `MMM`, and `SSS` placeholders:\n",
    "\n",
    "    To hard-boil a large egg taken directly from the fridge, cook it for TTT minutes (MMM min, SSS sec).\n",
    "    To hard-boil a small egg taken directly from the fridge, cook it for TTT minutes (MMM min, SSS sec).\n",
    "    To hard-boil a large egg starting from room temperature, cook it for TTT minutes (MMM min, SSS sec).\n",
    "    To hard-boil a small egg starting from room temperature, cook it for TTT minutes (MMM min, SSS sec).\n",
    "\n",
    "The `TTT` placeholders should be values in minutes to two decimal places. The `MMM` and `SSS` placeholders should be rounded to the nearest minute/second, with no decimal places. For example,\n",
    "\n",
    "    To hard-boil a large egg taken directly from the fridge, cook it for 56.78 minutes (56 min 47 sec).\n",
    "\n"
   ]
  },
  {
   "cell_type": "code",
   "execution_count": 29,
   "metadata": {},
   "outputs": [
    {
     "name": "stdout",
     "output_type": "stream",
     "text": "To hard-boil a large egg taken directly from the fridge, cook it for 6.41 minutes (6.0 min , 25.0 sec).\n"
    }
   ],
   "source": [
    "#Define constants\n",
    "rho = 1.0378\n",
    "c = 3.7\n",
    "K = 5.4 * 10 ** (-3)\n",
    "\n",
    "def boil_time(M, T_0): \n",
    "    \"\"\"\n",
    "    Returns the boil time of an egg based on its mass and initial temperature.\n",
    "    Args:\n",
    "    M -> Int\n",
    "    T_0 -> Int\n",
    "    Returns:\n",
    "    time -> Int\n",
    "    \"\"\"\n",
    "    time = (M ** (2 / 3) * c * rho ** (1 / 3)) / (K * (np.pi ** 2) * (4 * np.pi / 3) ** (2 / 3)) * np.log(0.76 * (T_0 - 100) / (70 - 100))\n",
    "    return time\n",
    "\n",
    "# Large egg from fridge\n",
    "time = boil_time(64, 4)\n",
    "print(f\"To hard-boil a large egg taken directly from the fridge, cook it for {round(time / 60, 2)} minutes ({round(time / 60)} min , {round(time % 60)} sec).\")\n",
    "\n",
    "# Small egg from fridge\n",
    "time = boil_time(42, 4)\n",
    "print(f\"To hard-boil a small egg taken directly from the fridge, cook it for {round(time / 60, 2)} minutes ({round(time / 60)} min , {round(time % 60)} sec).\")\n",
    "\n",
    "time = boil_time(64, 20)\n",
    "print(f\"To hard-boil a large egg starting from room temperature, cook it for {round(time / 60, 2)} minutes ({round(time / 60)} min , {round(time % 60)} sec).\")\n",
    "\n",
    "time = boil_time(42, 20)\n",
    "print(f\"To hard-boil a small egg starting from room temperature, cook it for {round(time / 60, 2)} minutes ({round(time / 60)} min , {round(time % 60)} sec).\")"
   ]
  },
  {
   "cell_type": "markdown",
   "metadata": {},
   "source": [
    "I am not sure why the round function doesn't output 5.10 even though I have specified 2d.p. I hope that isn't a big problem :)"
   ]
  },
  {
   "cell_type": "markdown",
   "metadata": {},
   "source": [
    "#### Hints\n",
    "\n",
    "Writing the entire formula in one line is difficult to type, difficult to read, difficult to debug---and you have to retype the entire calculation just to change one piece of it. Try breaking it down in smaller chunks assigned to variables, and combine those chunks to produce the final result.\n",
    "\n",
    "Beware of integer division!\n",
    "\n",
    "Remember to comment your code and use descriptive variable names so others (and future you) can understand what you're doing!"
   ]
  },
  {
   "cell_type": "markdown",
   "metadata": {},
   "source": [
    "## Problem 3: Estimating Half-Life\n",
    "\n",
    "[Adapted from Ayars, Problem 0-3] The data in file Ba137.txt (available here: https://raw.githubusercontent.com/celegante/code_chapter_0-_github/master/Ba137.txt) is actual data from a radioactive decay experiment; the first column is the number of decays $N$, the second is the time $t$ in seconds. We'd like to know the half-life $t_{1/2}$ of $^{137}\\text{Ba}$. It should follow the decay equation $$ N = N_0 e^{-\\lambda t} $$ where $\\lambda = \\frac{\\log 2}{t_{1/2}}$. Using the techniques you've learned from the lecture and workshop, load the data from the file Ba137.txt into appropriately-named variables. Experiment with different values of $N$ and $\\lambda$ and plot the resulting equation on top of the data. (Python uses `exp()` to calculate the exponential function: i.e. `y = A*exp(-L*time)` ) Don't worry about automating this process yet (unless you *really* want to!) just try adjusting things by hand until the equation matches the data pretty well. What is your best estimate for $t_{1/2}$?"
   ]
  },
  {
   "cell_type": "markdown",
   "metadata": {},
   "source": [
    "*Output for 3:*\n",
    "When you run your code cell, it should produce a well-labeled plot with both the data and your curve of best fit. It should also print a message to the terminal which says, \"My best estimate for the half life is $x$\", where $x$ is your estimate with units."
   ]
  },
  {
   "cell_type": "code",
   "execution_count": 7,
   "metadata": {},
   "outputs": [
    {
     "data": {
      "text/plain": [
       "[<matplotlib.lines.Line2D at 0x7f96d1e65358>]"
      ]
     },
     "execution_count": 7,
     "metadata": {},
     "output_type": "execute_result"
    }
   ],
   "source": [
    "import numpy as np\n",
    "import matplotlib.pyplot as plt\n",
    "\n",
    "### Load the data here\n",
    "data = np.loadtxt(\"Ba137.txt\")\n",
    "### Devide up data into CPM and time (I assuming it is in CPM)\n",
    "time = []\n",
    "CPM = []\n",
    "for i in data: \n",
    "    CPM.append(i[0])\n",
    "    time.append(i[1])\n",
    "    \n",
    "time2 = np.arange(0,480,1)\n",
    "plt.figure()    # Start a clean figure for your first plot\n",
    "\n",
    "### Your code for the first plot here!\n",
    "plt.title(\"Radioactive Decay\") #Add a title and label the axes \n",
    "plt.xlabel(\"time [s]\")\n",
    "plt.ylabel(\"Decays per Minute [CPM]\")\n",
    "plt.plot(time,CPM,'rx') \n",
    "plt.plot(time2, 28500*np.exp(-0.004*time2), 'g') #This overlays the exponential decay function in green"
   ]
  },
  {
   "cell_type": "markdown",
   "metadata": {},
   "source": [
    "#### Hints\n",
    "\n",
    "Remember to comment your code and use descriptive variable names so others (and future you) can understand what you're doing!"
   ]
  },
  {
   "cell_type": "code",
   "execution_count": 8,
   "metadata": {},
   "outputs": [
    {
     "name": "stdout",
     "output_type": "stream",
     "text": [
      "Estimated halflife = 75.3 seconds.\n"
     ]
    }
   ],
   "source": [
    "t_halflife = np.log10(2)/0.004\n",
    "print(\"Estimated halflife = \" + str(round(t_halflife,1)) + \" seconds.\")"
   ]
  },
  {
   "cell_type": "code",
   "execution_count": null,
   "metadata": {},
   "outputs": [],
   "source": []
  }
 ],
 "metadata": {
  "kernelspec": {
   "display_name": "Python 3",
   "language": "python",
   "name": "python3"
  },
  "language_info": {
   "codemirror_mode": {
    "name": "ipython",
    "version": 3
   },
   "file_extension": ".py",
   "mimetype": "text/x-python",
   "name": "python",
   "nbconvert_exporter": "python",
   "pygments_lexer": "ipython3",
   "version": "3.8.0-final"
  }
 },
 "nbformat": 4,
 "nbformat_minor": 1
}